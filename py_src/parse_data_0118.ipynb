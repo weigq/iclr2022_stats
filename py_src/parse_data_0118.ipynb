{
 "cells": [
  {
   "cell_type": "code",
   "execution_count": 2,
   "id": "b15b9499",
   "metadata": {},
   "outputs": [
    {
     "name": "stdout",
     "output_type": "stream",
     "text": [
      "The autoreload extension is already loaded. To reload it, use:\n",
      "  %reload_ext autoreload\n"
     ]
    }
   ],
   "source": [
    "%load_ext autoreload\n",
    "%autoreload 2\n",
    "\n",
    "import re\n",
    "import os\n",
    "import json\n",
    "import time\n",
    "import sqlite3\n",
    "import requests\n",
    "import datetime\n",
    "import numpy as np\n",
    "from tqdm.notebook import tqdm, trange\n",
    "from multiprocessing import Manager, Pool\n",
    "\n",
    "# from src import DataBase"
   ]
  },
  {
   "cell_type": "code",
   "execution_count": 3,
   "id": "751bf949",
   "metadata": {},
   "outputs": [],
   "source": [
    "class DataBase:\n",
    "    def __init__(self, db_path: str):\n",
    "        self.db_path = db_path\n",
    "        self.database = None\n",
    "        self.cursor = None\n",
    "        \n",
    "\n",
    "    def initialize(self, create: bool = False):\n",
    "        self.database = sqlite3.connect(self.db_path, check_same_thread=False)\n",
    "        self.cursor = self.database.cursor()\n",
    "  \n",
    "        if create:\n",
    "            _cmd = f\"CREATE TABLE submissions \" \\\n",
    "                   f\"(id int, url text, title text, keywords text, \" \\\n",
    "                   f\"rating_0_cnt int, rating_0_avg float, rating_0_std float, ratings_0 text,\" \\\n",
    "                   f\"deision text, withdraw int )\"\n",
    "            self.cursor.execute(_cmd)\n",
    "    \n",
    "    def write_item_rating(\n",
    "        self, \n",
    "        suf: int,\n",
    "        _id: int, \n",
    "        ratings: list,\n",
    "        withdraw: int,\n",
    "    ):\n",
    "#         title = title.replace('\\\\', '').replace(\"\\\"\", \"'\")\n",
    "        num_rating = len(ratings)\n",
    "        rating_avg = np.mean(ratings).item()\n",
    "        rating_std = np.std(ratings).item()\n",
    "        ratings = ', '.join(map(str, ratings))\n",
    "        _cmd = f\"UPDATE submissions \" \\\n",
    "               f\"SET \" \\\n",
    "               f\"rating_{suf}_cnt = {num_rating}, rating_{suf}_avg = {rating_avg}, \" \\\n",
    "               f\"rating_{suf}_std = {rating_std}, \" \\\n",
    "               f\"ratings_{suf} = \\\"{ratings}\\\", withdraw = {withdraw} \" \\\n",
    "               f\"WHERE id = {_id}\"\n",
    "#         print(_cmd)\n",
    "        self.cursor.execute(_cmd)\n",
    "        self.database.commit()\n",
    "        \n",
    "\n",
    "    def close(self):\n",
    "        self.cursor.close()\n",
    "        self.database.close()"
   ]
  },
  {
   "cell_type": "code",
   "execution_count": 4,
   "id": "a7e61369",
   "metadata": {},
   "outputs": [],
   "source": [
    "db = DataBase('../assets/_iclr2022.db')\n",
    "db.initialize(create=False)"
   ]
  },
  {
   "cell_type": "code",
   "execution_count": 12,
   "id": "4ef80ab2",
   "metadata": {},
   "outputs": [
    {
     "data": {
      "text/plain": [
       "<sqlite3.Cursor at 0x2473e116030>"
      ]
     },
     "execution_count": 12,
     "metadata": {},
     "output_type": "execute_result"
    }
   ],
   "source": [
    "db.cursor.execute(\"ALTER TABLE submissions ADD COLUMN rating_3_cnt int\")\n",
    "db.cursor.execute(\"ALTER TABLE submissions ADD COLUMN rating_3_avg float\")\n",
    "db.cursor.execute(\"ALTER TABLE submissions ADD COLUMN rating_3_std float\")\n",
    "db.cursor.execute(\"ALTER TABLE submissions ADD COLUMN ratings_3 text\")"
   ]
  },
  {
   "cell_type": "code",
   "execution_count": 5,
   "id": "f5455b76",
   "metadata": {},
   "outputs": [],
   "source": [
    "db.cursor.execute('SELECT id, url FROM submissions')\n",
    "data = db.cursor.fetchall()\n",
    "db.close()"
   ]
  },
  {
   "cell_type": "markdown",
   "id": "0d0d75c2",
   "metadata": {},
   "source": [
    "## Parse each item"
   ]
  },
  {
   "cell_type": "code",
   "execution_count": 6,
   "id": "fe8651f8",
   "metadata": {},
   "outputs": [
    {
     "name": "stdout",
     "output_type": "stream",
     "text": [
      "Processing 20 items:\n",
      "\n",
      "done: 4\n",
      "done: 2\n",
      "done: 1\n",
      "done: 3\n",
      "done: 0\n",
      "done: 9\n",
      "done: 7\n",
      "done: 6\n",
      "done: 8\n",
      "done: 5\n",
      "done: 10\n",
      "done: 11\n",
      "done: 12\n",
      "done: 13\n",
      "done: 14\n",
      "done: 15\n",
      "done: 18\n",
      "done: 17\n",
      "done: 16\n",
      "done: 19\n"
     ]
    }
   ],
   "source": [
    "def parse_item(i, _id, url, db_path):\n",
    "#     print(f\"-->>: {i}: {url}\")\n",
    "    \n",
    "    item_id = url.split('id=')[-1]\n",
    "    rqst_url = f\"https://api.openreview.net/notes?forum={item_id}&\" \\\n",
    "          f\"trash=true&details=replyCount%2Cwritable%2Crevisions%2Coriginal%2Coverwriting%2Cinvitation%2Ctags\"\n",
    "    rqst_data = requests.get(rqst_url)\n",
    "    rqst_data = json.loads(rqst_data.text)\n",
    "    \n",
    "    # parse each note\n",
    "    withdraw = 0\n",
    "    # filter meta note\n",
    "    meta_note = [d for d in rqst_data['notes'] if 'Paper' not in d['invitation']]\n",
    "    # check withdrawn\n",
    "    withdraw = 1 if 'Withdrawn_Submission' in meta_note[0]['invitation'] else 0\n",
    "    # filter reviewer comments\n",
    "    comment_notes = [d for d in rqst_data['notes'] \\\n",
    "                     if 'Official_Review' in d['invitation'] and 'recommendation' in d['content'].keys()]\n",
    "    comment_notes = sorted(comment_notes, key=lambda d: d['number'])[::-1]\n",
    "    ratings = [int(note['content']['recommendation'].split(':')[0]) for note in comment_notes]\n",
    "    \n",
    "    db = DataBase(db_path)\n",
    "    db.initialize(create=False)\n",
    "    db.write_item_rating(3, _id, ratings, withdraw)\n",
    "    print(f\"done: {i}\")\n",
    "    db.close()\n",
    "\n",
    "    \n",
    "p = Pool(processes=5)\n",
    "num_items = 20  # len(data)\n",
    "print(f\"Processing {num_items} items:\\n\")\n",
    "for i in range(num_items):\n",
    "    _id = data[i][0]\n",
    "    url = data[i][1].strip()\n",
    "    p.apply_async(parse_item, args=(i, _id, url, '../assets/_iclr2022.db'))\n",
    "p.close()\n",
    "p.join()"
   ]
  }
 ],
 "metadata": {
  "kernelspec": {
   "display_name": "Python 3",
   "language": "python",
   "name": "python3"
  },
  "language_info": {
   "codemirror_mode": {
    "name": "ipython",
    "version": 3
   },
   "file_extension": ".py",
   "mimetype": "text/x-python",
   "name": "python",
   "nbconvert_exporter": "python",
   "pygments_lexer": "ipython3",
   "version": "3.7.10"
  }
 },
 "nbformat": 4,
 "nbformat_minor": 5
}
