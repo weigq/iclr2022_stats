{
 "cells": [
  {
   "cell_type": "code",
   "execution_count": null,
   "id": "131805a1",
   "metadata": {
    "id": "131805a1"
   },
   "outputs": [],
   "source": [
    "%matplotlib inline\n",
    "%load_ext autoreload\n",
    "%autoreload 2\n",
    "\n",
    "import os\n",
    "from tqdm import trange\n",
    "from operator import itemgetter\n",
    "import numpy as np\n",
    "from pprint import pprint\n",
    "\n",
    "import matplotlib.pyplot as plt\n",
    "from matplotlib import rc\n",
    "gridc = (1., 1., 1)\n",
    "plt.rcParams['grid.color'] = gridc\n",
    "plt.rcParams[\"axes.edgecolor\"] = (0.898, 0.925, 0.965, 1)\n",
    "plt.rc('xtick', labelsize=12)\n",
    "plt.rc('ytick', labelsize=12)\n",
    "\n",
    "from funcs import DataBase\n",
    "\n",
    "from IPython.core.display import display, HTML\n",
    "display(HTML(\"<style>.container { width:95% !important; }</style>\"))\n",
    "display(HTML(\"<style>div#site { height: 100% !important; }</style>\"))"
   ]
  },
  {
   "cell_type": "code",
   "execution_count": null,
   "id": "5b328575",
   "metadata": {
    "id": "5b328575"
   },
   "outputs": [],
   "source": [
    "db = DataBase('../assets/iclr2022.db')\n",
    "db.initialize(create=False)"
   ]
  },
  {
   "cell_type": "markdown",
   "id": "a02d46bb",
   "metadata": {
    "id": "a02d46bb"
   },
   "source": [
    "### key words"
   ]
  },
  {
   "cell_type": "code",
   "execution_count": null,
   "id": "b7d7661c",
   "metadata": {
    "id": "b7d7661c"
   },
   "outputs": [],
   "source": [
    "# all submissions \n",
    "_cmd = \"SELECT keywords FROM submissions;\"\n",
    "db.cursor.execute(_cmd)\n",
    "data = db.cursor.fetchall()\n",
    "keywords = {}\n",
    "for i in trange(len(data)):\n",
    "    _kw = data[i][0].split(', ')\n",
    "    _kw = [_k.lower().strip() for _k in _kw]\n",
    "    for _k in _kw:\n",
    "        if _k in keywords.keys():\n",
    "            keywords[_k] += 1\n",
    "        else:\n",
    "            keywords[_k] = 1\n",
    "# sort values\n",
    "keywords = {k: v for k, v in sorted(keywords.items(), key=lambda item: item[1])[::-1]}"
   ]
  },
  {
   "cell_type": "markdown",
   "id": "dcd75c52",
   "metadata": {
    "id": "dcd75c52"
   },
   "source": [
    "### statistics bar"
   ]
  },
  {
   "cell_type": "code",
   "execution_count": null,
   "id": "a0d9b636",
   "metadata": {
    "id": "a0d9b636"
   },
   "outputs": [],
   "source": [
    "# all decisions\n",
    "_cmd = \"SELECT rating_0_avg, rating_3_avg FROM submissions;\"\n",
    "db.cursor.execute(_cmd)\n",
    "data = db.cursor.fetchall()\n",
    "rating_avgs = np.array(data).transpose()\n",
    "print(\"\\n> Total submissions (including the withdraw): {}\".format(len(data)))\n",
    "print(f\"  Avg: {rating_avgs[1].mean():.2f} | Max: {rating_avgs[1].max():.2f} | Min: {rating_avgs[1].min():.2f} | ΔR: {(rating_avgs[1] - rating_avgs[0]).mean():.2f}\")\n",
    "\n",
    "# oral\n",
    "_cmd = \"SELECT rating_0_avg, rating_3_avg FROM submissions WHERE decision LIKE '%Oral%';\"\n",
    "db.cursor.execute(_cmd)\n",
    "data = db.cursor.fetchall()\n",
    "oral_avgs = np.array(data).transpose()\n",
    "print(\"\\n> Oral submissions: {}\".format(oral_avgs[0].shape))\n",
    "print(f\"  Avg: {oral_avgs[1].mean():.2f} | Max: {oral_avgs[1].max():.2f} | Min: {oral_avgs[1].min():.2f} | ΔR: {(oral_avgs[1] - oral_avgs[0]).mean():.2f}\")\n",
    "\n",
    "# spotlight\n",
    "_cmd = \"SELECT rating_0_avg, rating_3_avg FROM submissions WHERE decision LIKE '%Spotlight%';\"\n",
    "db.cursor.execute(_cmd)\n",
    "data = db.cursor.fetchall()\n",
    "spotlight_avgs = np.array(data).transpose()\n",
    "print(\"\\n> Soitlight submissions: {}\".format(spotlight_avgs[0].shape))\n",
    "print(f\"  Avg: {spotlight_avgs[1].mean():.2f} | Max: {spotlight_avgs[1].max():.2f} | Min: {spotlight_avgs[1].min():.2f} | ΔR: {(spotlight_avgs[1] - spotlight_avgs[0]).mean():.2f}\")\n",
    "\n",
    "# poster\n",
    "_cmd = \"SELECT rating_0_avg, rating_3_avg FROM submissions WHERE decision LIKE '%Poster%';\"\n",
    "db.cursor.execute(_cmd)\n",
    "data = db.cursor.fetchall()\n",
    "poster_avgs = np.array(data).transpose()\n",
    "print(\"\\n> Poster submissions: {}\".format(poster_avgs[0].shape))\n",
    "print(f\"  Avg: {poster_avgs[1].mean():.2f} | Max: {poster_avgs[1].max():.2f} | Min: {poster_avgs[1].min():.2f} | ΔR: {(poster_avgs[1] - poster_avgs[0]).mean():.2f}\")\n",
    "\n",
    "# all accepted\n",
    "_cmd = \"SELECT rating_0_avg, rating_3_avg FROM submissions WHERE withdraw == 0 AND decision != 'Reject';\"\n",
    "db.cursor.execute(_cmd)\n",
    "data = db.cursor.fetchall()\n",
    "acpt_avgs = np.array(data).transpose()\n",
    "print(\"\\n> Accepted submissions: {}\".format(acpt_avgs[0].shape))\n",
    "print(f\"  Avg: {acpt_avgs[1].mean():.2f} | Max: {acpt_avgs[1].max():.2f} | Min: {acpt_avgs[1].min():.2f} | ΔR: {(acpt_avgs[1] - acpt_avgs[0]).mean():.2f}\")\n",
    "\n",
    "# reject\n",
    "_cmd = \"SELECT rating_0_avg, rating_3_avg FROM submissions WHERE decision LIKE '%Reject%';\"\n",
    "db.cursor.execute(_cmd)\n",
    "data = db.cursor.fetchall()\n",
    "reject_avgs = np.array(data).transpose()\n",
    "print(\"\\n> Reject submissions: {}\".format(reject_avgs[0].shape))\n",
    "print(f\"  Avg: {reject_avgs[1].mean():.2f} | Max: {reject_avgs[1].max():.2f} | Min: {reject_avgs[1].min():.2f} | ΔR: {(reject_avgs[1] - reject_avgs[0]).mean():.2f}\")\n",
    "\n",
    "# all\n",
    "_cmd = \"SELECT rating_0_avg, rating_3_avg FROM submissions WHERE withdraw == 0;\"\n",
    "db.cursor.execute(_cmd)\n",
    "data = db.cursor.fetchall()\n",
    "all_avgs = np.array(data).transpose()\n",
    "print(\"\\n> All submissions: {}\".format(all_avgs[0].shape))\n",
    "print(f\"  Avg: {all_avgs[1].mean():.2f} | Max: {all_avgs[1].max():.2f} | Min: {all_avgs[1].min():.2f} | ΔR: {(all_avgs[1] - all_avgs[0]).mean():.2f}\")"
   ]
  },
  {
   "cell_type": "code",
   "execution_count": null,
   "id": "ac30f897",
   "metadata": {},
   "outputs": [],
   "source": [
    "np.where(all_avgs[1] - all_avgs[0] < 0)[0].shape"
   ]
  },
  {
   "cell_type": "code",
   "execution_count": null,
   "id": "09f9d3bb",
   "metadata": {
    "id": "09f9d3bb"
   },
   "outputs": [],
   "source": [
    "_cmd = \"SELECT rating_3_avg FROM submissions WHERE withdraw == 0;\"\n",
    "db.cursor.execute(_cmd)\n",
    "data = db.cursor.fetchall()\n",
    "rating_avgs = np.array(data)\n",
    "_min, _max = rating_avgs.min(), rating_avgs.max()\n",
    "\n",
    "width = 0.24\n",
    "fig = plt.figure(figsize=[16, 6], frameon=False)\n",
    "\n",
    "ax = fig.add_subplot(1, 1, 1)\n",
    "ax.set_facecolor((0.898, 0.925, 0.965, 0.5))\n",
    "ax.spines['left'].set_color('w')\n",
    "ax.spines['bottom'].set_color('w')\n",
    "ax.spines['right'].set_color('w')\n",
    "ax.spines['top'].set_color('w')\n",
    "\n",
    "# all submissions\n",
    "hist, bin_edges = np.histogram(rating_avgs, bins=20, range=(_min, _max))\n",
    "# ax.bar(np.linspace(_min, _max, len(hist)), hist, width=width, alpha=0.95, \n",
    "#        color='#789BFF', capsize=4)\n",
    "print(sum(hist))\n",
    "for i, v in zip(np.linspace(_min, _max, len(hist)), hist):\n",
    "    ax.text(i - 0.05 * len(str(v)), v + 6.0, str(v), color='#2f3a49', fontsize=16)\n",
    "\n",
    "# reject\n",
    "hist_reject, _ = np.histogram(reject_avgs, bins=20, range=(_min, _max))\n",
    "print(f\"Rejct: {sum(hist_reject)}\")\n",
    "ax.bar(np.linspace(_min, _max, len(hist)), hist_reject, width=width, alpha=0.95, \n",
    "       color='#B6C3FF', capsize=4, label=f'{\"Reject\":-<14}avg: {reject_avgs.mean():.2f}')\n",
    "\n",
    "# poster\n",
    "hist_poster, _ = np.histogram(poster_avgs, bins=20, range=(_min, _max))\n",
    "print(f\"Poster: {sum(hist_poster)}\")\n",
    "ax.bar(np.linspace(_min, _max, len(hist)), hist_poster, bottom=hist_reject, width=width, alpha=0.95, \n",
    "       color='#ffced6', capsize=4, label=f'{\"Poster\":-<14}avg: {poster_avgs.mean():.2f}')\n",
    "\n",
    "# spotlight\n",
    "hist_spotlight, _ = np.histogram(spotlight_avgs, bins=20, range=(_min, _max))\n",
    "print(f\"Spotlight: {sum(hist_spotlight)}\")\n",
    "ax.bar(np.linspace(_min, _max, len(hist)), hist_spotlight, bottom=hist_poster + hist_reject, \n",
    "       width=width, alpha=0.95, \n",
    "       color='#FF95A4', capsize=4, label=f'{\"Spotlight\":-<14}avg: {spotlight_avgs.mean():.2f}')\n",
    "\n",
    "# oral\n",
    "hist_oral, _ = np.histogram(oral_avgs, bins=20, range=(_min, _max))\n",
    "print(f\"Oral: {sum(hist_oral)}\")\n",
    "ax.bar(np.linspace(_min, _max, len(hist)), hist_oral, bottom=hist_poster + hist_reject + hist_spotlight, \n",
    "       width=width, alpha=0.95, \n",
    "       color='#FF2542', capsize=4, label=f'{\"Oral\":-<14}avg: {oral_avgs.mean():.2f}')\n",
    "\n",
    "plt.ylim(0, 450)\n",
    "plt.xticks(ticks=np.linspace(_min, _max, len(hist)), \n",
    "           rotation=40, \n",
    "           labels=[f\"{d:.2f}\" for d in np.linspace(_min, _max, len(hist))])\n",
    "ax.set_ylabel(r\"# submissions\", fontsize=14)\n",
    "ax.set_xlabel(\"Rating\", fontsize=14)\n",
    "ax.set_axisbelow(True)\n",
    "ax.grid()\n",
    "handles, labels = ax.get_legend_handles_labels()\n",
    "ax.legend(handles[::-1], labels[::-1], loc=2, fontsize=14)\n",
    "plt.title('ICLR 2022 Rating Distribution')\n",
    "plt.savefig('../images/stats_bar_0130.png')"
   ]
  },
  {
   "cell_type": "markdown",
   "id": "4ab7f63c",
   "metadata": {
    "id": "4ab7f63c"
   },
   "source": [
    "### write all submissions"
   ]
  },
  {
   "cell_type": "code",
   "execution_count": null,
   "id": "3dc53bb2",
   "metadata": {},
   "outputs": [],
   "source": [
    "_cmd = \"SELECT id, url, title, rating_0_avg, rating_3_avg, ratings_0, ratings_3, rating_3_cnt, decision FROM submissions WHERE withdraw == 0 ORDER BY rating_3_avg DESC;\"\n",
    "db.cursor.execute(_cmd)\n",
    "data = db.cursor.fetchall()\n",
    "\n",
    "for i, d in enumerate(data[1]):\n",
    "    print(f\"{i}--------{d}\")"
   ]
  },
  {
   "cell_type": "code",
   "execution_count": null,
   "id": "5d31242d",
   "metadata": {
    "id": "5d31242d"
   },
   "outputs": [],
   "source": [
    "_cmd = \"SELECT id, url, title, rating_0_avg, rating_3_avg, ratings_0, ratings_3, rating_3_cnt, decision FROM submissions WHERE withdraw == 0 AND decision!= 'Reject' ORDER BY rating_3_avg DESC;\"\n",
    "db.cursor.execute(_cmd)\n",
    "data = db.cursor.fetchall()\n",
    "\n",
    "# read template \n",
    "with open('../iclr2022_submissions_template.html', 'r') as f:\n",
    "    html_temp = f.readlines()\n",
    "# find insert index\n",
    "idx = html_temp.index('    <!-- start here -->\\n') + 1\n",
    "\n",
    "# decision map\n",
    "decision_map = {\n",
    "    'oral': 2,\n",
    "    'spotlight': 1,\n",
    "    'poster': 0,\n",
    "}\n",
    "\n",
    "# write data\n",
    "for i in trange(len(data)):\n",
    "    _data = data[i]\n",
    "    decision = _data[8].split(\"(\")[-1].split(')')[0]\n",
    "    \n",
    "    _str = f\"<tr><td>{i + 1}</td><td class='td-left'><a href='{_data[1]}'> {_data[2]}</a></td>\" \\\n",
    "           f\"<td class='r1'>{_data[3]:.2f}</td><td>{_data[4]:.2f}</td>\" \\\n",
    "           f\"<td data-sort='{(5.0 + _data[4] - _data[3]):.2f}'>{(_data[4]-_data[3]):.2f}</td>\" \\\n",
    "           f\"<td data-sort='{_data[7]}'>\" \\\n",
    "           f\"<table class='sub-table'>\" \\\n",
    "           f\"<tr><td class='r1'>{', '.join([str(int(float(_d))) for _d in _data[5].split(', ')][::-1])}</td>\" \\\n",
    "           f\"</tr><tr><td class='r2'>{', '.join([str(int(float(_d))) for _d in _data[6].split(', ')][::-1])}</td></tr>\" \\\n",
    "           f\"</table></td><td data-sort='{decision_map[decision.lower()]}' class='{decision.lower()}'>{decision}</td>\" \\\n",
    "           f\"</tr>\\n\"\n",
    "    html_temp.insert(idx + i, _str)\n",
    "\n",
    "with open('../iclr2022_submissions.html' ,'w') as f:\n",
    "    f.write(\"\".join(html_temp))"
   ]
  },
  {
   "cell_type": "markdown",
   "id": "40fde4b8",
   "metadata": {},
   "source": [
    "### write rejected html"
   ]
  },
  {
   "cell_type": "code",
   "execution_count": null,
   "id": "d6f00302",
   "metadata": {},
   "outputs": [],
   "source": [
    "_cmd = \"SELECT id, url, title, rating_0_avg, rating_3_avg, ratings_0, ratings_3, rating_3_cnt, decision FROM submissions WHERE withdraw == 0 AND decision == 'Reject' ORDER BY rating_3_avg DESC;\"\n",
    "db.cursor.execute(_cmd)\n",
    "data = db.cursor.fetchall()\n",
    "\n",
    "# read template \n",
    "with open('../iclr2022_submissions_template.html', 'r', encoding='utf-8') as f:\n",
    "    html_temp = f.readlines()\n",
    "# find insert index\n",
    "idx = html_temp.index('    <!-- start here -->\\n') + 1\n",
    "\n",
    "# write data\n",
    "for i in trange(len(data)):\n",
    "    _data = data[i]\n",
    "    decision = _data[8].split(\"(\")[-1].split(')')[0]\n",
    "    \n",
    "    _str = f\"<tr><td>{i + 1}</td><td class='td-left'><a href='{_data[1]}'> {_data[2]}</a></td>\" \\\n",
    "           f\"<td class='r1'>{_data[3]:.2f}</td><td>{_data[4]:.2f}</td>\" \\\n",
    "           f\"<td data-sort='{(5.0 + _data[4] - _data[3]):.2f}'>{(_data[4]-_data[3]):.2f}</td>\" \\\n",
    "           f\"<td data-sort='{_data[7]}'>\" \\\n",
    "           f\"<table class='sub-table'>\" \\\n",
    "           f\"<tr><td class='r1'>{', '.join([str(int(float(_d))) for _d in _data[5].split(', ')][::-1])}</td>\" \\\n",
    "           f\"</tr><tr><td class='r2'>{', '.join([str(int(float(_d))) for _d in _data[6].split(', ')][::-1])}</td></tr>\" \\\n",
    "           f\"</table></td><td class='{decision.lower()}'>{decision}</td>\" \\\n",
    "           f\"</tr>\\n\"\n",
    "    html_temp.insert(idx + i, _str)\n",
    "\n",
    "with open('../iclr2022_submissions_reject.html' ,'w', encoding='utf-8') as f:\n",
    "    f.write(\"\".join(html_temp))"
   ]
  },
  {
   "cell_type": "markdown",
   "id": "8c890930",
   "metadata": {},
   "source": [
    "### write oral"
   ]
  },
  {
   "cell_type": "code",
   "execution_count": null,
   "id": "51a357ea",
   "metadata": {},
   "outputs": [],
   "source": [
    "_cmd = \"SELECT id, url, title, rating_0_avg, rating_3_avg, ratings_0, ratings_3, rating_3_cnt, decision FROM submissions WHERE withdraw == 0 AND decision LIKE '%Oral%' ORDER BY rating_3_avg DESC;\"\n",
    "db.cursor.execute(_cmd)\n",
    "data = db.cursor.fetchall()\n",
    "\n",
    "# read template \n",
    "with open('../iclr2022_submissions_template.html', 'r', encoding='utf-8') as f:\n",
    "    html_temp = f.readlines()\n",
    "# find insert index\n",
    "idx = html_temp.index('    <!-- start here -->\\n') + 1\n",
    "\n",
    "# write data\n",
    "for i in trange(len(data)):\n",
    "    _data = data[i]\n",
    "    decision = _data[8].split(\"(\")[-1].split(')')[0]\n",
    "    \n",
    "    _str = f\"<tr><td>{i + 1}</td><td class='td-left'><a href='{_data[1]}'> {_data[2]}</a></td>\" \\\n",
    "           f\"<td class='r1'>{_data[3]:.2f}</td><td>{_data[4]:.2f}</td>\" \\\n",
    "           f\"<td data-sort='{(5.0 + _data[4] - _data[3]):.2f}'>{(_data[4]-_data[3]):.2f}</td>\" \\\n",
    "           f\"<td data-sort='{_data[7]}'>\" \\\n",
    "           f\"<table class='sub-table'>\" \\\n",
    "           f\"<tr><td class='r1'>{', '.join([str(int(float(_d))) for _d in _data[5].split(', ')][::-1])}</td>\" \\\n",
    "           f\"</tr><tr><td class='r2'>{', '.join([str(int(float(_d))) for _d in _data[6].split(', ')][::-1])}</td></tr>\" \\\n",
    "           f\"</table></td><td class='{decision.lower()}'>{decision}</td>\" \\\n",
    "           f\"</tr>\\n\"\n",
    "    html_temp.insert(idx + i, _str)\n",
    "\n",
    "with open('../iclr2022_submissions_oral.html' ,'w', encoding='utf-8') as f:\n",
    "    f.write(\"\".join(html_temp))"
   ]
  },
  {
   "cell_type": "markdown",
   "id": "9728d0ce",
   "metadata": {},
   "source": [
    "### write spotlight"
   ]
  },
  {
   "cell_type": "code",
   "execution_count": null,
   "id": "736441b9",
   "metadata": {},
   "outputs": [],
   "source": [
    "_cmd = \"SELECT id, url, title, rating_0_avg, rating_3_avg, ratings_0, ratings_3, rating_3_cnt, decision FROM submissions WHERE withdraw == 0 AND decision LIKE '%Spotlight%' ORDER BY rating_3_avg DESC;\"\n",
    "db.cursor.execute(_cmd)\n",
    "data = db.cursor.fetchall()\n",
    "\n",
    "# read template \n",
    "with open('../iclr2022_submissions_template.html', 'r', encoding='utf-8') as f:\n",
    "    html_temp = f.readlines()\n",
    "# find insert index\n",
    "idx = html_temp.index('    <!-- start here -->\\n') + 1\n",
    "\n",
    "# write data\n",
    "for i in trange(len(data)):\n",
    "    _data = data[i]\n",
    "    decision = _data[8].split(\"(\")[-1].split(')')[0]\n",
    "    \n",
    "    _str = f\"<tr><td>{i + 1}</td><td class='td-left'><a href='{_data[1]}'> {_data[2]}</a></td>\" \\\n",
    "           f\"<td class='r1'>{_data[3]:.2f}</td><td>{_data[4]:.2f}</td>\" \\\n",
    "           f\"<td data-sort='{(5.0 + _data[4] - _data[3]):.2f}'>{(_data[4]-_data[3]):.2f}</td>\" \\\n",
    "           f\"<td data-sort='{_data[7]}'>\" \\\n",
    "           f\"<table class='sub-table'>\" \\\n",
    "           f\"<tr><td class='r1'>{', '.join([str(int(float(_d))) for _d in _data[5].split(', ')][::-1])}</td>\" \\\n",
    "           f\"</tr><tr><td class='r2'>{', '.join([str(int(float(_d))) for _d in _data[6].split(', ')][::-1])}</td></tr>\" \\\n",
    "           f\"</table></td><td class='{decision.lower()}'>{decision}</td>\" \\\n",
    "           f\"</tr>\\n\"\n",
    "    html_temp.insert(idx + i, _str)\n",
    "\n",
    "with open('../iclr2022_submissions_spotlight.html' ,'w', encoding='utf-8') as f:\n",
    "    f.write(\"\".join(html_temp))"
   ]
  },
  {
   "cell_type": "markdown",
   "id": "e82627f6",
   "metadata": {},
   "source": [
    "### write poster"
   ]
  },
  {
   "cell_type": "code",
   "execution_count": null,
   "id": "58f3d672",
   "metadata": {},
   "outputs": [],
   "source": [
    "_cmd = \"SELECT id, url, title, rating_0_avg, rating_3_avg, ratings_0, ratings_3, rating_3_cnt, decision FROM submissions WHERE withdraw == 0 AND decision LIKE '%Poster%' ORDER BY rating_3_avg DESC;\"\n",
    "db.cursor.execute(_cmd)\n",
    "data = db.cursor.fetchall()\n",
    "\n",
    "# read template \n",
    "with open('../iclr2022_submissions_template.html', 'r', encoding='utf-8') as f:\n",
    "    html_temp = f.readlines()\n",
    "# find insert index\n",
    "idx = html_temp.index('    <!-- start here -->\\n') + 1\n",
    "\n",
    "# write data\n",
    "for i in trange(len(data)):\n",
    "    _data = data[i]\n",
    "    decision = _data[8].split(\"(\")[-1].split(')')[0]\n",
    "    \n",
    "    _str = f\"<tr><td>{i + 1}</td><td class='td-left'><a href='{_data[1]}'> {_data[2]}</a></td>\" \\\n",
    "           f\"<td class='r1'>{_data[3]:.2f}</td><td>{_data[4]:.2f}</td>\" \\\n",
    "           f\"<td data-sort='{(5.0 + _data[4] - _data[3]):.2f}'>{(_data[4]-_data[3]):.2f}</td>\" \\\n",
    "           f\"<td data-sort='{_data[7]}'>\" \\\n",
    "           f\"<table class='sub-table'>\" \\\n",
    "           f\"<tr><td class='r1'>{', '.join([str(int(float(_d))) for _d in _data[5].split(', ')][::-1])}</td>\" \\\n",
    "           f\"</tr><tr><td class='r2'>{', '.join([str(int(float(_d))) for _d in _data[6].split(', ')][::-1])}</td></tr>\" \\\n",
    "           f\"</table></td><td class='{decision.lower()}'>{decision}</td>\" \\\n",
    "           f\"</tr>\\n\"\n",
    "    html_temp.insert(idx + i, _str)\n",
    "\n",
    "with open('../iclr2022_submissions_poster.html' ,'w', encoding='utf-8') as f:\n",
    "    f.write(\"\".join(html_temp))"
   ]
  },
  {
   "cell_type": "code",
   "execution_count": null,
   "id": "b4ca6f1e",
   "metadata": {
    "id": "b4ca6f1e"
   },
   "outputs": [],
   "source": [
    "db.close()"
   ]
  }
 ],
 "metadata": {
  "colab": {
   "name": "plot.ipynb",
   "provenance": []
  },
  "kernelspec": {
   "display_name": "Python 3",
   "language": "python",
   "name": "python3"
  },
  "language_info": {
   "codemirror_mode": {
    "name": "ipython",
    "version": 3
   },
   "file_extension": ".py",
   "mimetype": "text/x-python",
   "name": "python",
   "nbconvert_exporter": "python",
   "pygments_lexer": "ipython3",
   "version": "3.7.10"
  }
 },
 "nbformat": 4,
 "nbformat_minor": 5
}
