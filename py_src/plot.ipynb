{
 "cells": [
  {
   "cell_type": "code",
   "execution_count": 1,
   "id": "131805a1",
   "metadata": {
    "id": "131805a1"
   },
   "outputs": [],
   "source": [
    "%matplotlib inline\n",
    "%load_ext autoreload\n",
    "%autoreload 2\n",
    "\n",
    "import os\n",
    "from tqdm import trange\n",
    "from operator import itemgetter\n",
    "import numpy as np\n",
    "from pprint import pprint\n",
    "\n",
    "import matplotlib.pyplot as plt\n",
    "from matplotlib import rc\n",
    "gridc = (1., 1., 1)\n",
    "plt.rcParams['grid.color'] = gridc\n",
    "plt.rcParams[\"axes.edgecolor\"] = (0.898, 0.925, 0.965, 1)\n",
    "plt.rc('xtick', labelsize=12)\n",
    "plt.rc('ytick', labelsize=12)\n",
    "\n",
    "from funcs import DataBase"
   ]
  },
  {
   "cell_type": "code",
   "execution_count": 31,
   "id": "5b328575",
   "metadata": {
    "id": "5b328575"
   },
   "outputs": [],
   "source": [
    "db = DataBase('../assets/iclr2022.db')\n",
    "db.initialize(create=False)"
   ]
  },
  {
   "cell_type": "markdown",
   "id": "a02d46bb",
   "metadata": {
    "id": "a02d46bb"
   },
   "source": [
    "### key words"
   ]
  },
  {
   "cell_type": "code",
   "execution_count": null,
   "id": "b7d7661c",
   "metadata": {
    "id": "b7d7661c"
   },
   "outputs": [],
   "source": [
    "# all submissions \n",
    "_cmd = \"SELECT keywords FROM submissions;\"\n",
    "db.cursor.execute(_cmd)\n",
    "data = db.cursor.fetchall()\n",
    "keywords = {}\n",
    "for i in trange(len(data)):\n",
    "    _kw = data[i][0].split(', ')\n",
    "    _kw = [_k.lower().strip() for _k in _kw]\n",
    "    for _k in _kw:\n",
    "        if _k in keywords.keys():\n",
    "            keywords[_k] += 1\n",
    "        else:\n",
    "            keywords[_k] = 1\n",
    "# sort values\n",
    "keywords = {k: v for k, v in sorted(keywords.items(), key=lambda item: item[1])[::-1]}"
   ]
  },
  {
   "cell_type": "markdown",
   "id": "dcd75c52",
   "metadata": {
    "id": "dcd75c52"
   },
   "source": [
    "### statistics bar"
   ]
  },
  {
   "cell_type": "code",
   "execution_count": 98,
   "id": "a0d9b636",
   "metadata": {
    "id": "a0d9b636"
   },
   "outputs": [
    {
     "name": "stdout",
     "output_type": "stream",
     "text": [
      "> Total submissions (including the withdraw): 3328\n",
      "    Average ratings: 5.22\n",
      "    Max ratings: 9.00\n",
      "    Min ratings: 1.00\n",
      "> Oral submissions: 54\n",
      "    Average ratings: 7.81\n",
      "    Max ratings: 9.00\n",
      "    Min ratings: 5.00\n",
      "> Soitlight submissions: 176\n",
      "    Average ratings: 7.35\n",
      "    Max ratings: 8.67\n",
      "    Min ratings: 5.67\n",
      "> Poster submissions: 865\n",
      "    Average ratings: 6.41\n",
      "    Max ratings: 8.00\n",
      "    Min ratings: 4.50\n",
      "> Reject submissions: 1580\n",
      "    Average ratings: 4.71\n",
      "    Max ratings: 7.50\n",
      "    Min ratings: 1.00\n",
      "> Accepted submissions: 2675\n",
      "    Average ratings: 5.49\n",
      "    Max ratings: 9.00\n",
      "    Min ratings: 1.00\n"
     ]
    }
   ],
   "source": [
    "# all decisions\n",
    "_cmd = \"SELECT rating_3_avg FROM submissions;\"\n",
    "db.cursor.execute(_cmd)\n",
    "data = db.cursor.fetchall()\n",
    "rating_avgs = np.array(data)\n",
    "print(\"> Total submissions (including the withdraw): {}\".format(len(data)))\n",
    "print(f\"    Average ratings: {rating_avgs.mean():.2f}\")\n",
    "print(f\"    Max ratings: {rating_avgs.max():.2f}\")\n",
    "print(f\"    Min ratings: {rating_avgs.min():.2f}\")\n",
    "\n",
    "# oral\n",
    "_cmd = \"SELECT rating_3_avg FROM submissions WHERE decision LIKE '%Oral%';\"\n",
    "db.cursor.execute(_cmd)\n",
    "data = db.cursor.fetchall()\n",
    "oral_avgs = np.array(data)\n",
    "print(\"> Oral submissions: {}\".format(oral_avgs.shape[0]))\n",
    "print(f\"    Average ratings: {oral_avgs.mean():.2f}\")\n",
    "print(f\"    Max ratings: {oral_avgs.max():.2f}\")\n",
    "print(f\"    Min ratings: {oral_avgs.min():.2f}\")\n",
    "\n",
    "# spotlight\n",
    "_cmd = \"SELECT rating_3_avg FROM submissions WHERE decision LIKE '%Spotlight%';\"\n",
    "db.cursor.execute(_cmd)\n",
    "data = db.cursor.fetchall()\n",
    "spotlight_avgs = np.array(data)\n",
    "print(\"> Soitlight submissions: {}\".format(spotlight_avgs.shape[0]))\n",
    "print(f\"    Average ratings: {spotlight_avgs.mean():.2f}\")\n",
    "print(f\"    Max ratings: {spotlight_avgs.max():.2f}\")\n",
    "print(f\"    Min ratings: {spotlight_avgs.min():.2f}\")\n",
    "\n",
    "# poster\n",
    "_cmd = \"SELECT rating_3_avg FROM submissions WHERE decision LIKE '%Poster%';\"\n",
    "db.cursor.execute(_cmd)\n",
    "data = db.cursor.fetchall()\n",
    "poster_avgs = np.array(data)\n",
    "print(\"> Poster submissions: {}\".format(poster_avgs.shape[0]))\n",
    "print(f\"    Average ratings: {poster_avgs.mean():.2f}\")\n",
    "print(f\"    Max ratings: {poster_avgs.max():.2f}\")\n",
    "print(f\"    Min ratings: {poster_avgs.min():.2f}\")\n",
    "\n",
    "# reject\n",
    "_cmd = \"SELECT rating_3_avg FROM submissions WHERE decision LIKE '%Reject%';\"\n",
    "db.cursor.execute(_cmd)\n",
    "data = db.cursor.fetchall()\n",
    "reject_avgs = np.array(data)\n",
    "print(\"> Reject submissions: {}\".format(reject_avgs.shape[0]))\n",
    "print(f\"    Average ratings: {reject_avgs.mean():.2f}\")\n",
    "print(f\"    Max ratings: {reject_avgs.max():.2f}\")\n",
    "print(f\"    Min ratings: {reject_avgs.min():.2f}\")\n",
    "\n",
    "# all\n",
    "_cmd = \"SELECT rating_3_avg FROM submissions WHERE withdraw == 0;\"\n",
    "db.cursor.execute(_cmd)\n",
    "data = db.cursor.fetchall()\n",
    "acpt_avgs = np.array(data)\n",
    "print(\"> Accepted submissions: {}\".format(acpt_avgs.shape[0]))\n",
    "print(f\"    Average ratings: {acpt_avgs.mean():.2f}\")\n",
    "print(f\"    Max ratings: {acpt_avgs.max():.2f}\")\n",
    "print(f\"    Min ratings: {acpt_avgs.min():.2f}\")"
   ]
  },
  {
   "cell_type": "code",
   "execution_count": 96,
   "id": "ea619efa",
   "metadata": {},
   "outputs": [
    {
     "data": {
      "text/plain": [
       "653"
      ]
     },
     "execution_count": 96,
     "metadata": {},
     "output_type": "execute_result"
    }
   ],
   "source": [
    "_cmd = \"SELECT rating_3_avg FROM submissions WHERE withdraw == 1;\"\n",
    "db.cursor.execute(_cmd)\n",
    "data = db.cursor.fetchall()\n",
    "len(data)"
   ]
  },
  {
   "cell_type": "code",
   "execution_count": 95,
   "id": "09f9d3bb",
   "metadata": {
    "id": "09f9d3bb"
   },
   "outputs": [
    {
     "name": "stdout",
     "output_type": "stream",
     "text": [
      "2675\n",
      "Rejct: 1580\n",
      "Poster: 865\n",
      "Spotlight: 176\n",
      "Oral: 54\n"
     ]
    },
    {
     "data": {
      "image/png": "[encoded data removed]",
      "text/plain": [
       "<Figure size 1152x432 with 1 Axes>"
      ]
     },
     "metadata": {
      "needs_background": "light"
     },
     "output_type": "display_data"
    }
   ],
   "source": [
    "_cmd = \"SELECT rating_3_avg FROM submissions WHERE withdraw == 0;\"\n",
    "db.cursor.execute(_cmd)\n",
    "data = db.cursor.fetchall()\n",
    "rating_avgs = np.array(data)\n",
    "_min, _max = rating_avgs.min(), rating_avgs.max()\n",
    "\n",
    "width = 0.24\n",
    "fig = plt.figure(figsize=[16, 6], frameon=False)\n",
    "\n",
    "ax = fig.add_subplot(1, 1, 1)\n",
    "ax.set_facecolor((0.898, 0.925, 0.965, 0.5))\n",
    "ax.spines['left'].set_color('w')\n",
    "ax.spines['bottom'].set_color('w')\n",
    "ax.spines['right'].set_color('w')\n",
    "ax.spines['top'].set_color('w')\n",
    "\n",
    "# all submissions\n",
    "hist, bin_edges = np.histogram(rating_avgs, bins=20, range=(_min, _max))\n",
    "# ax.bar(np.linspace(_min, _max, len(hist)), hist, width=width, alpha=0.95, \n",
    "#        color='#789BFF', capsize=4)\n",
    "print(sum(hist))\n",
    "for i, v in zip(np.linspace(_min, _max, len(hist)), hist):\n",
    "    ax.text(i - 0.05 * len(str(v)), v + 6.0, str(v), color='#2f3a49', fontsize=16)\n",
    "\n",
    "# reject\n",
    "hist_reject, _ = np.histogram(reject_avgs, bins=20, range=(_min, _max))\n",
    "print(f\"Rejct: {sum(hist_reject)}\")\n",
    "ax.bar(np.linspace(_min, _max, len(hist)), hist_reject, width=width, alpha=0.95, \n",
    "       color='#B6C3FF', capsize=4, label=f'{\"Reject\":-<14}avg: {reject_avgs.mean():.2f}')\n",
    "\n",
    "# poster\n",
    "hist_poster, _ = np.histogram(poster_avgs, bins=20, range=(_min, _max))\n",
    "print(f\"Poster: {sum(hist_poster)}\")\n",
    "ax.bar(np.linspace(_min, _max, len(hist)), hist_poster, bottom=hist_reject, width=width, alpha=0.95, \n",
    "       color='#ffced6', capsize=4, label=f'{\"Poster\":-<14}avg: {poster_avgs.mean():.2f}')\n",
    "\n",
    "# spotlight\n",
    "hist_spotlight, _ = np.histogram(spotlight_avgs, bins=20, range=(_min, _max))\n",
    "print(f\"Spotlight: {sum(hist_spotlight)}\")\n",
    "ax.bar(np.linspace(_min, _max, len(hist)), hist_spotlight, bottom=hist_poster + hist_reject, \n",
    "       width=width, alpha=0.95, \n",
    "       color='#FF95A4', capsize=4, label=f'{\"Spotlight\":-<14}avg: {spotlight_avgs.mean():.2f}')\n",
    "\n",
    "# oral\n",
    "hist_oral, _ = np.histogram(oral_avgs, bins=20, range=(_min, _max))\n",
    "print(f\"Oral: {sum(hist_oral)}\")\n",
    "ax.bar(np.linspace(_min, _max, len(hist)), hist_oral, bottom=hist_poster + hist_reject + hist_spotlight, \n",
    "       width=width, alpha=0.95, \n",
    "       color='#FF2542', capsize=4, label=f'{\"Oral\":-<14}avg: {oral_avgs.mean():.2f}')\n",
    "\n",
    "plt.ylim(0, 450)\n",
    "plt.xticks(ticks=np.linspace(_min, _max, len(hist)), \n",
    "           rotation=40, \n",
    "           labels=[f\"{d:.2f}\" for d in np.linspace(_min, _max, len(hist))])\n",
    "ax.set_ylabel(r\"# submissions\", fontsize=14)\n",
    "ax.set_xlabel(\"Rating\", fontsize=14)\n",
    "ax.set_axisbelow(True)\n",
    "ax.grid()\n",
    "handles, labels = ax.get_legend_handles_labels()\n",
    "ax.legend(handles[::-1], labels[::-1], loc=2, fontsize=14)\n",
    "plt.title('ICLR 2022 Rating Distribution')\n",
    "plt.savefig('../images/stats_bar_0130.png')"
   ]
  },
  {
   "cell_type": "markdown",
   "id": "4ab7f63c",
   "metadata": {
    "id": "4ab7f63c"
   },
   "source": [
    "### write all submissions"
   ]
  },
  {
   "cell_type": "code",
   "execution_count": 32,
   "id": "3dc53bb2",
   "metadata": {},
   "outputs": [
    {
     "name": "stdout",
     "output_type": "stream",
     "text": [
      "0--------757\n",
      "1--------https://openreview.net/forum?id=0RDcd5Axok\n",
      "2--------Towards a Unified View of Parameter-Efficient Transfer Learning\n",
      "3--------8.0\n",
      "4--------8.666666666666666\n",
      "5--------10.0, 8.0, 6.0\n",
      "6--------10, 8, 8\n",
      "7--------3\n",
      "8--------Accept (Spotlight)\n"
     ]
    }
   ],
   "source": [
    "_cmd = \"SELECT id, url, title, rating_0_avg, rating_3_avg, ratings_0, ratings_3, rating_3_cnt, decision FROM submissions WHERE withdraw == 0 ORDER BY rating_3_avg DESC;\"\n",
    "db.cursor.execute(_cmd)\n",
    "data = db.cursor.fetchall()\n",
    "\n",
    "for i, d in enumerate(data[1]):\n",
    "    print(f\"{i}--------{d}\")"
   ]
  },
  {
   "cell_type": "code",
   "execution_count": 38,
   "id": "5d31242d",
   "metadata": {
    "id": "5d31242d"
   },
   "outputs": [
    {
     "name": "stderr",
     "output_type": "stream",
     "text": [
      "100%|███████████████████████████████████████████████████████████████████████████| 1095/1095 [00:00<00:00, 150656.48it/s]\n"
     ]
    }
   ],
   "source": [
    "_cmd = \"SELECT id, url, title, rating_0_avg, rating_3_avg, ratings_0, ratings_3, rating_3_cnt, decision FROM submissions WHERE withdraw == 0 AND decision!= 'Reject' ORDER BY rating_3_avg DESC;\"\n",
    "db.cursor.execute(_cmd)\n",
    "data = db.cursor.fetchall()\n",
    "\n",
    "# read template \n",
    "with open('../iclr2022_submissions_template.html', 'r') as f:\n",
    "    html_temp = f.readlines()\n",
    "# find insert index\n",
    "idx = html_temp.index('    <!-- start here -->\\n') + 1\n",
    "\n",
    "# decision map\n",
    "decision_map = {\n",
    "    'oral': 2,\n",
    "    'spotlight': 1,\n",
    "    'poster': 0,\n",
    "}\n",
    "\n",
    "# write data\n",
    "for i in trange(len(data)):\n",
    "    _data = data[i]\n",
    "    decision = _data[8].split(\"(\")[-1].split(')')[0]\n",
    "    \n",
    "    _str = f\"<tr><td>{i + 1}</td><td class='td-left'><a href='{_data[1]}'> {_data[2]}</a></td>\" \\\n",
    "           f\"<td class='r1'>{_data[3]:.2f}</td><td>{_data[4]:.2f}</td>\" \\\n",
    "           f\"<td data-sort='{(5.0 + _data[4] - _data[3]):.2f}'>{(_data[4]-_data[3]):.2f}</td>\" \\\n",
    "           f\"<td data-sort='{_data[7]}'>\" \\\n",
    "           f\"<table class='sub-table'>\" \\\n",
    "           f\"<tr><td class='r1'>{', '.join([str(int(float(_d))) for _d in _data[5].split(', ')][::-1])}</td>\" \\\n",
    "           f\"</tr><tr><td class='r2'>{', '.join([str(int(float(_d))) for _d in _data[6].split(', ')][::-1])}</td></tr>\" \\\n",
    "           f\"</table></td><td data-sort='{decision_map[decision.lower()]}' class='{decision.lower()}'>{decision}</td>\" \\\n",
    "           f\"</tr>\\n\"\n",
    "    html_temp.insert(idx + i, _str)\n",
    "\n",
    "with open('../iclr2022_submissions.html' ,'w') as f:\n",
    "    f.write(\"\".join(html_temp))"
   ]
  },
  {
   "cell_type": "code",
   "execution_count": 27,
   "id": "b4ca6f1e",
   "metadata": {
    "id": "b4ca6f1e"
   },
   "outputs": [],
   "source": [
    "db.close()"
   ]
  }
 ],
 "metadata": {
  "colab": {
   "name": "plot.ipynb",
   "provenance": []
  },
  "kernelspec": {
   "display_name": "Python 3 (ipykernel)",
   "language": "python",
   "name": "python3"
  },
  "language_info": {
   "codemirror_mode": {
    "name": "ipython",
    "version": 3
   },
   "file_extension": ".py",
   "mimetype": "text/x-python",
   "name": "python",
   "nbconvert_exporter": "python",
   "pygments_lexer": "ipython3",
   "version": "3.8.10"
  }
 },
 "nbformat": 4,
 "nbformat_minor": 5
}
