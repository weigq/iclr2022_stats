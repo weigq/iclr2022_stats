{
 "cells": [
  {
   "cell_type": "code",
   "execution_count": null,
   "id": "131805a1",
   "metadata": {},
   "outputs": [],
   "source": [
    "%matplotlib inline\n",
    "\n",
    "import os\n",
    "from operator import itemgetter\n",
    "import numpy as np\n",
    "\n",
    "import matplotlib.pyplot as plt\n",
    "from matplotlib import rc\n",
    "gridc = (1., 1., 1)\n",
    "plt.rcParams['grid.color'] = gridc\n",
    "plt.rcParams[\"axes.edgecolor\"] = (0.898, 0.925, 0.965, 1)\n",
    "plt.rc('xtick', labelsize=12)\n",
    "plt.rc('ytick', labelsize=12)\n",
    "\n",
    "from funcs import MetaData"
   ]
  },
  {
   "cell_type": "code",
   "execution_count": null,
   "id": "1b85ebd4",
   "metadata": {},
   "outputs": [],
   "source": [
    "metadata = MetaData('assets/data')"
   ]
  },
  {
   "cell_type": "code",
   "execution_count": null,
   "id": "96fabb03",
   "metadata": {},
   "outputs": [],
   "source": [
    "sorted_idxs = np.argsort(metadata.get_all_values_by_key('avg_score'))[::-1]\n",
    "avg_scores = metadata.get_all_values_by_key('avg_score')\n",
    "avg_scores = itemgetter(*sorted_idxs)(avg_scores)\n",
    "titles = metadata.get_all_values_by_key('title')\n",
    "titles = itemgetter(*sorted_idxs)(titles)\n",
    "urls = metadata.get_all_values_by_key('url')\n",
    "urls = itemgetter(*sorted_idxs)(urls)\n",
    "scores = metadata.get_all_values_by_key('scores')\n",
    "scores = itemgetter(*sorted_idxs)(scores)\n",
    "keywords = metadata.get_all_values_by_key('keywords')\n",
    "keywords = itemgetter(*sorted_idxs)(keywords)"
   ]
  },
  {
   "cell_type": "code",
   "execution_count": null,
   "id": "9a08c0c4",
   "metadata": {},
   "outputs": [],
   "source": [
    "hist, bin_edges = np.histogram(avg_scores, bins=20, range=(0, 10))\n",
    "mean_score = np.mean(avg_scores)"
   ]
  },
  {
   "cell_type": "code",
   "execution_count": null,
   "id": "767b9151",
   "metadata": {},
   "outputs": [],
   "source": [
    "width = 0.4\n",
    "fig = plt.figure(figsize=[16, 6])\n",
    "\n",
    "ax = fig.add_subplot(1, 1, 1)\n",
    "ax.set_facecolor((0.898, 0.925, 0.965, 0.5))\n",
    "ax.spines['left'].set_color('w')\n",
    "ax.spines['bottom'].set_color('w')\n",
    "ax.spines['right'].set_color('w')\n",
    "ax.spines['top'].set_color('w')\n",
    "\n",
    "ax.bar(np.linspace(0, 10, len(hist)), hist, width=width, alpha=0.95, \n",
    "       color='#789BFF', capsize=4)\n",
    "\n",
    "for i, v in zip(np.linspace(0, 10, len(hist)), hist):\n",
    "    ax.text(i - 0.2, v + 3.5, str(v), color='#1f59ff', fontsize=16)\n",
    "\n",
    "ax.text(0, 400, f\"Average rating: {mean_score:.1f}\", color='#1f59ff', fontsize=16)\n",
    "plt.ylim(0, 680)\n",
    "plt.xticks(ticks=np.linspace(0, 10, len(hist)), rotation=40, labels=[f\"{d:.1f}\" for d in np.linspace(0, 10, len(hist))])\n",
    "ax.set_ylabel(r\"# submissions\", fontsize=14)\n",
    "ax.set_xlabel(\"Rating\", fontsize=14)\n",
    "ax.set_axisbelow(True)\n",
    "ax.grid()\n",
    "plt.savefig('images/stats_bar.png', dpi=300)\n"
   ]
  }
 ],
 "metadata": {
  "kernelspec": {
   "display_name": "Python 3 (ipykernel)",
   "language": "python",
   "name": "python3"
  },
  "language_info": {
   "codemirror_mode": {
    "name": "ipython",
    "version": 3
   },
   "file_extension": ".py",
   "mimetype": "text/x-python",
   "name": "python",
   "nbconvert_exporter": "python",
   "pygments_lexer": "ipython3",
   "version": "3.8.10"
  }
 },
 "nbformat": 4,
 "nbformat_minor": 5
}
